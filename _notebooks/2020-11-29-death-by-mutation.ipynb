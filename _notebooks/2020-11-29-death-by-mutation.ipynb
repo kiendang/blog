{
 "cells": [
  {
   "cell_type": "markdown",
   "metadata": {},
   "source": [
    "# Death by Mutation [WIP]\n",
    "> Think you understand Python list comprehensions? Take this one simple quiz to find out\n",
    "\n",
    "- toc: true\n",
    "- badges: false\n",
    "- comments: true\n",
    "- categories: [python, functional-programming, wip]"
   ]
  },
  {
   "cell_type": "markdown",
   "metadata": {},
   "source": [
    "*WARNING: This post is a work in progress. Please comeback later*"
   ]
  },
  {
   "cell_type": "markdown",
   "metadata": {},
   "source": [
    "Let start with a quiz. Try to guess the outputs of the following code block without running it. You can then check whether you're correct by clicking the `Show Output` button."
   ]
  },
  {
   "cell_type": "code",
   "execution_count": 1,
   "metadata": {},
   "outputs": [
    {
     "name": "stdout",
     "output_type": "stream",
     "text": [
      "3\n",
      "3\n",
      "3\n"
     ]
    }
   ],
   "source": [
    "#collapse-output\n",
    "fs = [lambda: x for x in [1, 2, 3]]\n",
    "\n",
    "print(fs[0]())\n",
    "print(fs[1]())\n",
    "print(fs[2]())"
   ]
  },
  {
   "cell_type": "markdown",
   "metadata": {},
   "source": [
    "For those of you who got it right, congratulations! For those of us who didn't, you might want to rerun the code in your own Python REPL to make sure I'm not bluffing. After you're done with that, I recommend taking a moment to think about why it's behaving the way it does before reading on."
   ]
  },
  {
   "cell_type": "markdown",
   "metadata": {},
   "source": [
    "Before we start let's formalize what the intended vs actual behavior of the expression `[lambda: x for x in [1, 2, 3]]` is. We start with a list of values `[1, 2, 3]`. For each of these values we want a function that takes no argument and returns that value. The first function returns `1`, the second function returns `2` and so on. At least that's what we would expect. Instead what we got is a list of functions that all return `3`, the last value in the list. Why?"
   ]
  },
  {
   "cell_type": "markdown",
   "metadata": {},
   "source": [
    "*For those who, at this point, already has a guess for what's really happening, you can jump straight to the answer [here](#The-answer).*"
   ]
  },
  {
   "cell_type": "markdown",
   "metadata": {},
   "source": [
    "Let's take a little detour and try another quiz. This one's pretty straightforward. Again, guess the outputs."
   ]
  },
  {
   "cell_type": "code",
   "execution_count": 2,
   "metadata": {},
   "outputs": [
    {
     "name": "stdout",
     "output_type": "stream",
     "text": [
      "1\n",
      "2\n"
     ]
    }
   ],
   "source": [
    "#collapse-output\n",
    "x = 1\n",
    "def f():\n",
    "    return x\n",
    "\n",
    "print(f())\n",
    "\n",
    "x = 2\n",
    "print(f())"
   ]
  },
  {
   "cell_type": "markdown",
   "metadata": {},
   "source": [
    "Since `x` is not defined inside `f`, whenever `f` is called, Python will look up the value of `x` in the environment where `f` is defined, which, in this case, is the global environment. Thus `f()` will always return the current value of the global variable `x`."
   ]
  },
  {
   "cell_type": "markdown",
   "metadata": {},
   "source": [
    "And that's exactly what's going on in our list comprehension example. List comprehensions in Python are most equivalent to for loops. `[lambda: x for x in [1, 2, 3]]` can be rewritten as:"
   ]
  },
  {
   "cell_type": "code",
   "execution_count": 3,
   "metadata": {},
   "outputs": [],
   "source": [
    "fs = []\n",
    "for x in [1, 2, 3]:\n",
    "    def f():\n",
    "        return x\n",
    "    fs.append(f)"
   ]
  },
  {
   "cell_type": "markdown",
   "metadata": {},
   "source": [
    "Let's unroll the loop"
   ]
  },
  {
   "cell_type": "code",
   "execution_count": 4,
   "metadata": {},
   "outputs": [],
   "source": [
    "fs = []\n",
    "\n",
    "x = 1\n",
    "def f():\n",
    "    return x\n",
    "fs.append(f)\n",
    "\n",
    "x = 2\n",
    "def f():\n",
    "    return x\n",
    "fs.append(f)\n",
    "\n",
    "x = 3\n",
    "def f():\n",
    "    return x\n",
    "fs.append(f)"
   ]
  },
  {
   "cell_type": "markdown",
   "metadata": {},
   "source": [
    "Let's focus on the first function"
   ]
  },
  {
   "cell_type": "code",
   "execution_count": 5,
   "metadata": {},
   "outputs": [],
   "source": [
    "# fs = []\n",
    "\n",
    "x = 1\n",
    "def f():\n",
    "    return x\n",
    "# fs.append(f)\n",
    "\n",
    "x = 2\n",
    "# def f():\n",
    "#     return x\n",
    "# fs.append(f)\n",
    "\n",
    "x = 3\n",
    "# def f():\n",
    "#     return x\n",
    "# fs.append(f)"
   ]
  },
  {
   "cell_type": "markdown",
   "metadata": {},
   "source": [
    "Does it look familiar? It's because that's the exact same example in our 2nd quiz!"
   ]
  },
  {
   "cell_type": "markdown",
   "metadata": {},
   "source": [
    "## The answer"
   ]
  },
  {
   "cell_type": "markdown",
   "metadata": {},
   "source": [
    "To recap, in our list comprehension example"
   ]
  },
  {
   "cell_type": "code",
   "execution_count": 6,
   "metadata": {},
   "outputs": [
    {
     "name": "stdout",
     "output_type": "stream",
     "text": [
      "3\n",
      "3\n",
      "3\n"
     ]
    }
   ],
   "source": [
    "fs = [lambda: x for x in [1, 2, 3]]\n",
    "\n",
    "print(fs[0]())\n",
    "print(fs[1]())\n",
    "print(fs[2]())"
   ]
  },
  {
   "cell_type": "markdown",
   "metadata": {},
   "source": [
    "`x` is not in the local scope of `lambda: x` but in the enclosing scope, where `for x in [1, 2, 3]` takes place. Thus `x` always takes the value of `3`, the last value in the list, after the list comprehension finishes execution."
   ]
  },
  {
   "cell_type": "markdown",
   "metadata": {},
   "source": [
    "In other words, since `x` is not defined inside `lambda: x`, whenever `fs[0]` is called, Python will look up the value of `x` in the enclosing scope of `lambda: x`, the one where `for x in [1, 2, 3]` takes place. Here the last value `x` was assgined to is `3`. Thus `fs[0]()`, `fs[1]()` and `fs[2]()` will always return `3`."
   ]
  },
  {
   "cell_type": "markdown",
   "metadata": {},
   "source": [
    "This can be better ilustrated using a generator instead of list comprehension"
   ]
  },
  {
   "cell_type": "code",
   "execution_count": 7,
   "metadata": {},
   "outputs": [],
   "source": [
    "fs = (lambda: x for x in [1, 2, 3])"
   ]
  },
  {
   "cell_type": "markdown",
   "metadata": {},
   "source": [
    "which is equivalent to"
   ]
  },
  {
   "cell_type": "code",
   "execution_count": 8,
   "metadata": {},
   "outputs": [],
   "source": [
    "def make_gen(xs):\n",
    "    for x in xs:\n",
    "        yield lambda: x\n",
    "fs = make_gen([1, 2, 3])"
   ]
  },
  {
   "cell_type": "code",
   "execution_count": 9,
   "metadata": {},
   "outputs": [
    {
     "name": "stdout",
     "output_type": "stream",
     "text": [
      "f1()=1\n"
     ]
    }
   ],
   "source": [
    "f1 = next(fs)\n",
    "\n",
    "print(f\"{f1()=}\")"
   ]
  },
  {
   "cell_type": "code",
   "execution_count": 10,
   "metadata": {},
   "outputs": [
    {
     "name": "stdout",
     "output_type": "stream",
     "text": [
      "f1()=2\n",
      "f2()=2\n"
     ]
    }
   ],
   "source": [
    "f2 = next(fs)\n",
    "\n",
    "print(f\"{f1()=}\")\n",
    "print(f\"{f2()=}\")"
   ]
  },
  {
   "cell_type": "code",
   "execution_count": 11,
   "metadata": {},
   "outputs": [
    {
     "name": "stdout",
     "output_type": "stream",
     "text": [
      "f1()=3\n",
      "f2()=3\n",
      "f3()=3\n"
     ]
    }
   ],
   "source": [
    "f3 = next(fs)\n",
    "\n",
    "print(f\"{f1()=}\")\n",
    "print(f\"{f2()=}\")\n",
    "print(f\"{f3()=}\")"
   ]
  },
  {
   "cell_type": "markdown",
   "metadata": {},
   "source": [
    "## A caveat"
   ]
  },
  {
   "cell_type": "markdown",
   "metadata": {},
   "source": [
    "The for loop is not 100% equivalent to our list comprehension example, however. The difference is that in the latter, `x` isn't in the global scope, i.e. you can't access it outside of the list comprehension"
   ]
  },
  {
   "cell_type": "code",
   "execution_count": 12,
   "metadata": {},
   "outputs": [],
   "source": [
    "#hide\n",
    "del x"
   ]
  },
  {
   "cell_type": "code",
   "execution_count": 13,
   "metadata": {
    "tags": [
     "raises-exception"
    ]
   },
   "outputs": [
    {
     "ename": "NameError",
     "evalue": "name 'x' is not defined",
     "output_type": "error",
     "traceback": [
      "\u001b[0;31m---------------------------------------------------------------------------\u001b[0m",
      "\u001b[0;31mNameError\u001b[0m                                 Traceback (most recent call last)",
      "\u001b[0;32m<ipython-input-13-8c627e592441>\u001b[0m in \u001b[0;36m<module>\u001b[0;34m\u001b[0m\n\u001b[1;32m      1\u001b[0m \u001b[0;31m#hide\u001b[0m\u001b[0;34m\u001b[0m\u001b[0;34m\u001b[0m\u001b[0;34m\u001b[0m\u001b[0m\n\u001b[1;32m      2\u001b[0m \u001b[0;34m[\u001b[0m\u001b[0;32mlambda\u001b[0m\u001b[0;34m:\u001b[0m \u001b[0mx\u001b[0m \u001b[0;32mfor\u001b[0m \u001b[0mx\u001b[0m \u001b[0;32min\u001b[0m \u001b[0;34m[\u001b[0m\u001b[0;36m1\u001b[0m\u001b[0;34m,\u001b[0m \u001b[0;36m2\u001b[0m\u001b[0;34m,\u001b[0m \u001b[0;36m3\u001b[0m\u001b[0;34m]\u001b[0m\u001b[0;34m]\u001b[0m\u001b[0;34m\u001b[0m\u001b[0;34m\u001b[0m\u001b[0m\n\u001b[0;32m----> 3\u001b[0;31m \u001b[0mprint\u001b[0m\u001b[0;34m(\u001b[0m\u001b[0mx\u001b[0m\u001b[0;34m)\u001b[0m\u001b[0;34m\u001b[0m\u001b[0;34m\u001b[0m\u001b[0m\n\u001b[0m",
      "\u001b[0;31mNameError\u001b[0m: name 'x' is not defined"
     ]
    }
   ],
   "source": [
    "#hide\n",
    "[lambda: x for x in [1, 2, 3]]\n",
    "print(x)"
   ]
  },
  {
   "cell_type": "markdown",
   "metadata": {},
   "source": [
    "A more faithful reproduction would be"
   ]
  },
  {
   "cell_type": "code",
   "execution_count": 14,
   "metadata": {},
   "outputs": [],
   "source": [
    "def make_funcs():\n",
    "    fs = []\n",
    "    for x in [1, 2, 3]:\n",
    "        def f():\n",
    "            return x\n",
    "    fs.append(f)\n",
    "    return fs\n",
    "fs = make_funcs()"
   ]
  },
  {
   "cell_type": "markdown",
   "metadata": {},
   "source": [
    "This, however, doesn't invalidate our explanation earlier."
   ]
  },
  {
   "cell_type": "markdown",
   "metadata": {},
   "source": [
    "## The correct way"
   ]
  },
  {
   "cell_type": "markdown",
   "metadata": {},
   "source": [
    "Now that we know what went wrong, how could we fix the code just a little so that it behaves the way we wanted? *Hint: try converting the example into one that uses `map`.*"
   ]
  },
  {
   "cell_type": "markdown",
   "metadata": {},
   "source": [
    "The answer is function closure"
   ]
  },
  {
   "cell_type": "code",
   "execution_count": 15,
   "metadata": {},
   "outputs": [
    {
     "name": "stdout",
     "output_type": "stream",
     "text": [
      "1\n",
      "2\n",
      "3\n"
     ]
    }
   ],
   "source": [
    "def f(x):\n",
    "    def g():\n",
    "        return x\n",
    "    return g\n",
    "\n",
    "fs = [f(x) for x in [1, 2, 3]]\n",
    "\n",
    "print(fs[0]())\n",
    "print(fs[1]())\n",
    "print(fs[2]())"
   ]
  },
  {
   "cell_type": "markdown",
   "metadata": {},
   "source": [
    "which can be converted into a one-liner using `lambda`"
   ]
  },
  {
   "cell_type": "code",
   "execution_count": 16,
   "metadata": {},
   "outputs": [],
   "source": [
    "fs = [(lambda x: lambda: x)(x) for x in [1, 2, 3]]"
   ]
  },
  {
   "cell_type": "markdown",
   "metadata": {},
   "source": [
    "or partial function"
   ]
  },
  {
   "cell_type": "code",
   "execution_count": 17,
   "metadata": {},
   "outputs": [],
   "source": [
    "from functools import partial\n",
    "\n",
    "fs = [partial(lambda x: x, x) for x in [1, 2, 3]]"
   ]
  }
 ],
 "metadata": {
  "kernelspec": {
   "display_name": "Python 3",
   "language": "python",
   "name": "python3"
  },
  "language_info": {
   "codemirror_mode": {
    "name": "ipython",
    "version": 3
   },
   "file_extension": ".py",
   "mimetype": "text/x-python",
   "name": "python",
   "nbconvert_exporter": "python",
   "pygments_lexer": "ipython3",
   "version": "3.9.0"
  }
 },
 "nbformat": 4,
 "nbformat_minor": 4
}
